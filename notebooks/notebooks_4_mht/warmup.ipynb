{
 "cells": [
  {
   "cell_type": "markdown",
   "metadata": {},
   "source": [
    "# По следам модельного эксперимента\n",
    "\n",
    "$n=20, \\quad m=200, \\quad m_0=150$,\n",
    "\n",
    "$\\mathbf{X}_i \\sim \\mathcal{N}(0, 1), \\quad i=1,\\dots,m_0;$\n",
    "\n",
    "$\\mathbf{X}_i \\sim \\mathcal{N}(1, 1), \\quad i=m_0+1,\\dots,m;$\n",
    "\n",
    "$\\mathbf{X}_i \\in \\mathbb{R}^n.$\n",
    "\n",
    "**Гипотезы:**\n",
    "\n",
    "$H^i_0: \\mathsf{E}\\mathbf{X}_i = 0$;\n",
    "\n",
    "$H^i_1: \\mathsf{E}\\mathbf{X}_i \\neq 0$;"
   ]
  },
  {
   "cell_type": "code",
   "execution_count": null,
   "metadata": {},
   "outputs": [],
   "source": [
    "import numpy as np\n",
    "import matplotlib.pylab as plt\n",
    "%matplotlib inline\n",
    "import scipy.stats as st\n",
    "import seaborn as sns\n",
    "import pandas as pd"
   ]
  },
  {
   "cell_type": "code",
   "execution_count": null,
   "metadata": {},
   "outputs": [],
   "source": [
    "m = 200\n",
    "m0 = 150\n",
    "n = 20\n",
    "rs = np.random.RandomState(42)\n",
    "\n",
    "X = rs.randn(m,n)\n",
    "X[m0:]+=1"
   ]
  },
  {
   "cell_type": "markdown",
   "metadata": {},
   "source": [
    "Гистограммы"
   ]
  },
  {
   "cell_type": "code",
   "execution_count": null,
   "metadata": {},
   "outputs": [],
   "source": [
    "plt.hist(X[:m0].flatten(), color='r', normed=True)\n",
    "plt.hist(X[m0:].flatten(), color='g', alpha=0.5, normed=True)"
   ]
  },
  {
   "cell_type": "markdown",
   "metadata": {},
   "source": [
    "Для проверки используем одновыборочный критерий Стьюдента.\n",
    "\n",
    "(для одной выборки --- ```st.ttest_1samp```)"
   ]
  },
  {
   "cell_type": "code",
   "execution_count": null,
   "metadata": {},
   "outputs": [],
   "source": [
    "from statsmodels.stats.weightstats import ttest_ind\n",
    "# zero mean\n",
    "rejected = 0\n",
    "for x in X[:m0]:\n",
    "    # ваш код\n",
    "print ('True: H0; H1 non-accepted:', m0 - rejected)\n",
    "print ('True: H0; H0 rejected:', rejected)\n",
    "\n",
    "# non-zero mean\n",
    "rejected = 0\n",
    "for x in X[m0:]:\n",
    "    # ваш код\n",
    "print ('True: H1; H1 non-accepted:', m-m0 - rejected)\n",
    "print ('True: H1; H0 rejected:', rejected)\n",
    "\n",
    "p_values = []\n",
    "for x in X:\n",
    "    # ваш код"
   ]
  },
  {
   "cell_type": "markdown",
   "metadata": {},
   "source": [
    "Бонферрони:"
   ]
  },
  {
   "cell_type": "code",
   "execution_count": null,
   "metadata": {},
   "outputs": [],
   "source": [
    "from statsmodels.stats.multitest import multipletests\n",
    "# zero mean\n",
    "rejections = multipletests(p_values, method='bonferroni')[0]\n",
    "\n",
    "print ('True: H0; H1 non-accepted:', m0 - rejections[:m0].sum())\n",
    "print ('True: H0; H1 rejected:',  rejections[:m0].sum())\n",
    "\n",
    "# non-zero mean\n",
    "rejections = multipletests(p_values, method='bonferroni')[0]\n",
    "\n",
    "print ('True: H1;  H1 non-accepted:', m-m0 - rejections[m0:].sum())\n",
    "print ('True: H1;  H1 rejected:',  rejections[m0:].sum())\n"
   ]
  },
  {
   "cell_type": "code",
   "execution_count": null,
   "metadata": {},
   "outputs": [],
   "source": [
    "from statsmodels.stats.weightstats import ttest_ind\n",
    "# zero mean\n",
    "rejected = 0\n",
    "for x in X[:m0]:\n",
    "    # ваш код    \n",
    "   \n",
    "print ('True: H0; H1 non-accepted:', m0 - rejected)\n",
    "print ('True: H0; H0 rejected:', rejected)\n",
    "\n",
    "# non-zero mean\n",
    "rejected = 0\n",
    "for x in X[m0:]:\n",
    "    # ваш код    \n",
    "      \n",
    "print ('True: H1; H1 non-accepted:', m-m0 - rejected)\n",
    "print ('True: H1; H0 rejected:', rejected)\n"
   ]
  },
  {
   "cell_type": "markdown",
   "metadata": {},
   "source": [
    "Построим график мощности критерия Стьюдента и различных поправок"
   ]
  },
  {
   "cell_type": "code",
   "execution_count": null,
   "metadata": {},
   "outputs": [],
   "source": [
    "plt.plot([0,m-1], [0.05]*2, label='No correction')\n",
    "bonferroni = 0.05/m\n",
    "plt.plot([0,m-1],[bonferroni]*2, label='Bonferroni')\n",
    "\n",
    "# Holm\n",
    "holm = 0.05  / np.arange(m, 0, -1)\n",
    "plt.plot(holm, label='Holm')\n",
    "\n",
    "\n",
    "#Sidak\n",
    "sidak = 1 - np.power((1. - 0.05),  1./np.arange(m, 0, -1))\n",
    "plt.plot(sidak, label='Sidak', ls='--')\n",
    "\n",
    "\n",
    "# Benjamini-Hochberg\n",
    "ecdffactor = np.arange(1,m+1)/float(m)\n",
    "bh = 0.05*ecdffactor\n",
    "plt.plot(range(m), bh, label='Benjamini-Hochberg' )\n",
    "\n",
    "#Benjamini-Yekutieli \n",
    "cm = np.sum(1./np.arange(1, m+1)) \n",
    "ecdffactor = ecdffactor / cm\n",
    "by = 0.05*ecdffactor\n",
    "plt.plot(range(m), by, label='Benjamini-Yekutieli ' )\n",
    "\n",
    "\n",
    "plt.xlabel('i')\n",
    "plt.ylabel('$a_i$')\n",
    "plt.legend(loc='best')\n"
   ]
  },
  {
   "cell_type": "markdown",
   "metadata": {},
   "source": [
    "Построим графики достигаемых уровней значимостей для разных поправок."
   ]
  },
  {
   "cell_type": "code",
   "execution_count": null,
   "metadata": {},
   "outputs": [],
   "source": [
    "#No corrections\n",
    "argsorted_p = np.argsort(p_values)\n",
    "false = []\n",
    "true = []\n",
    "for i, id in enumerate(argsorted_p):   \n",
    "    if id>m0:\n",
    "        false.append((i, p_values[id]))\n",
    "    else:\n",
    "        true.append((i, p_values[id]))\n",
    "plt.scatter(*zip(*true), label='True hypothesis', c='b')\n",
    "plt.scatter(*zip(*false), label='False hypothesis', c='r')\n",
    "plt.xlabel('sorted i')\n",
    "plt.ylabel('p(i)')\n",
    "plt.title('No correction')\n",
    "_=plt.legend(loc='best')"
   ]
  },
  {
   "cell_type": "markdown",
   "metadata": {},
   "source": [
    "График для поправки Бонферони"
   ]
  },
  {
   "cell_type": "code",
   "execution_count": null,
   "metadata": {},
   "outputs": [],
   "source": [
    "# ваш код"
   ]
  }
 ],
 "metadata": {
  "kernelspec": {
   "display_name": "Python 3",
   "language": "python",
   "name": "python3"
  },
  "language_info": {
   "codemirror_mode": {
    "name": "ipython",
    "version": 3
   },
   "file_extension": ".py",
   "mimetype": "text/x-python",
   "name": "python",
   "nbconvert_exporter": "python",
   "pygments_lexer": "ipython3",
   "version": "3.5.2"
  }
 },
 "nbformat": 4,
 "nbformat_minor": 2
}
